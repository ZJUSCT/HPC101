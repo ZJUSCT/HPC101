{
 "cells": [
  {
   "cell_type": "markdown",
   "source": [
    "# Import necessities\n"
   ],
   "metadata": {
    "collapsed": false,
    "pycharm": {
     "name": "#%% md\n"
    }
   }
  },
  {
   "cell_type": "code",
   "execution_count": 70,
   "outputs": [],
   "source": [
    "import torch\n",
    "import torchvision\n",
    "import torch.nn as nn\n",
    "import torch.optim as optim\n",
    "import torch.nn.functional as F\n",
    "import torch.utils.data as Data\n",
    "import matplotlib.pyplot as plt\n",
    "import numpy as np\n"
   ],
   "metadata": {
    "collapsed": false,
    "pycharm": {
     "name": "#%%\n"
    }
   }
  },
  {
   "cell_type": "code",
   "execution_count": 4,
   "outputs": [],
   "source": [
    "device = torch.device(\"cuda\" if torch.cuda.is_available() else \"cpu\")"
   ],
   "metadata": {
    "collapsed": false,
    "pycharm": {
     "name": "#%%\n"
    }
   }
  },
  {
   "cell_type": "markdown",
   "source": [
    "# Build the model"
   ],
   "metadata": {
    "collapsed": false
   }
  },
  {
   "cell_type": "code",
   "execution_count": 55,
   "outputs": [
    {
     "data": {
      "text/plain": "tensor([[ 0.0293, -0.0268, -0.0338,  0.0453,  0.0303, -0.1096,  0.0133,  0.1032,\n          0.0583, -0.0488],\n        [ 0.0290, -0.0317, -0.0345,  0.0428,  0.0265, -0.1141,  0.0125,  0.1028,\n          0.0603, -0.0515],\n        [ 0.0334, -0.0284, -0.0285,  0.0432,  0.0348, -0.1130,  0.0180,  0.1011,\n          0.0559, -0.0557],\n        [ 0.0263, -0.0359, -0.0311,  0.0429,  0.0291, -0.1158,  0.0167,  0.1029,\n          0.0577, -0.0532],\n        [ 0.0295, -0.0225, -0.0256,  0.0399,  0.0336, -0.1104,  0.0105,  0.1032,\n          0.0593, -0.0477],\n        [ 0.0357, -0.0307, -0.0291,  0.0430,  0.0363, -0.1171,  0.0169,  0.1042,\n          0.0629, -0.0449],\n        [ 0.0362, -0.0321, -0.0310,  0.0462,  0.0331, -0.1106,  0.0139,  0.1058,\n          0.0572, -0.0486],\n        [ 0.0285, -0.0257, -0.0253,  0.0412,  0.0328, -0.1145,  0.0122,  0.0994,\n          0.0580, -0.0548],\n        [ 0.0256, -0.0296, -0.0261,  0.0417,  0.0324, -0.1151,  0.0139,  0.1033,\n          0.0585, -0.0511],\n        [ 0.0280, -0.0274, -0.0287,  0.0393,  0.0292, -0.1072,  0.0140,  0.1101,\n          0.0582, -0.0508]], grad_fn=<AddmmBackward>)"
     },
     "execution_count": 55,
     "metadata": {},
     "output_type": "execute_result"
    }
   ],
   "source": [
    "class LeNet(nn.Module):\n",
    "    def __init__(self):\n",
    "        super(LeNet, self).__init__()\n",
    "        # Define the parameters here\n",
    "        self.relu = nn.ReLU()\n",
    "        self.sigmoid = nn.Sigmoid()\n",
    "        self.c1 = nn.Conv2d(in_channels=3, out_channels=6, kernel_size=5) # Input(3, 32, 32) Output(6, 28, 28)\n",
    "        self.s2 = nn.MaxPool2d(2, 2) # Output (6, 14, 14)\n",
    "        self.c3 = nn.Conv2d(in_channels=6, out_channels=16, kernel_size=5) # Input(6, 14, 14) Output(16, 10, 10)\n",
    "        self.s4 = nn.MaxPool2d(2, 2) # Output (16, 5, 5)\n",
    "        self.c5 = nn.Linear(16 * 5 * 5, 120)\n",
    "        self.f6 = nn.Linear(120, 84)\n",
    "        self.out = nn.Linear(84, 10)\n",
    "\n",
    "    def forward(self, x):\n",
    "        x = self.relu(self.c1(x))\n",
    "        x = self.s2(x)\n",
    "        x = self.relu(self.c3(x))\n",
    "        x = self.s4(x)\n",
    "        x = self.relu(self.c5(x.view(x.size()[0], -1)))\n",
    "        x = self.relu(self.f6(x))\n",
    "        x = self.out(x)\n",
    "\n",
    "        return x\n",
    "\n",
    "model = LeNet().to(device)\n",
    "# 使用随机生成的样例测试模型\n",
    "# 四个维度分别为[batch_size, channels, height, width]\n",
    "t1 = torch.rand([10, 3, 32, 32])\n",
    "model(t1)"
   ],
   "metadata": {
    "collapsed": false,
    "pycharm": {
     "name": "#%%\n"
    }
   }
  },
  {
   "cell_type": "markdown",
   "source": [
    "# Set optimizer and loss function"
   ],
   "metadata": {
    "collapsed": false,
    "pycharm": {
     "name": "#%% md\n"
    }
   }
  },
  {
   "cell_type": "code",
   "execution_count": 91,
   "outputs": [
    {
     "name": "stdout",
     "output_type": "stream",
     "text": [
      "torch.Size([10, 10])\n"
     ]
    }
   ],
   "source": [
    "criterion = nn.MSELoss()\n",
    "optimizer = optim.Adam(model.parameters(), lr=1e-3)"
   ],
   "metadata": {
    "collapsed": false,
    "pycharm": {
     "name": "#%%\n"
    }
   }
  },
  {
   "cell_type": "markdown",
   "source": [
    "# Load data for training\n",
    "和MNIST类似，加载数据集有两种方式torch.utils.data.DataLoader\n",
    "- 使用Dataset与DataLoader加载\n",
    "- 使用官方提供的函数加载\n",
    "\n",
    "其中前者由于torchvision中提供了函数`torchvision.datasets.CIFAR10`，不用手写继承 Dataset 类处理函数，因此更为方便"
   ],
   "metadata": {
    "collapsed": false,
    "pycharm": {
     "name": "#%% md\n"
    }
   }
  },
  {
   "cell_type": "code",
   "execution_count": 260,
   "outputs": [],
   "source": [
    "# 使用torchvision提供的函数\n",
    "import torchvision.transforms as transforms\n",
    "# 归一化，after = (before - mean) / std\n",
    "# 前三个0.5代表每个通道的mean 后三个代表每个通道的std\n",
    "transform = transforms.Compose(\n",
    "    [transforms.ToTensor(),\n",
    "     transforms.Normalize((0.5, 0.5, 0.5), (0.5, 0.5, 0.5))])\n",
    "\n",
    "train_set = torchvision.datasets.CIFAR10(root='./src/', train=True,\n",
    "                                         download=False, transform=transform)\n",
    "train_loader = Data.DataLoader(train_set, batch_size=36,\n",
    "                                           shuffle=False, num_workers=0)\n",
    "\n",
    "test_set = torchvision.datasets.CIFAR10(root='./src/', train=False,\n",
    "                                         download=False, transform=transform)\n",
    "test_loader = Data.DataLoader(test_set, batch_size=5000,\n",
    "                                         shuffle=False, num_workers=0)\n",
    "\n",
    "def unpickle(file):\n",
    "    import pickle\n",
    "    with open(file, 'rb') as fo:\n",
    "        _dict = pickle.load(fo, encoding='bytes')\n",
    "    return _dict\n",
    "a = unpickle(\"./src/cifar-10-batches-py/data_batch_1\")"
   ],
   "metadata": {
    "collapsed": false,
    "pycharm": {
     "name": "#%%\n"
    }
   }
  },
  {
   "cell_type": "markdown",
   "source": [
    "以下函数可显示读取到的数据，可用于检测数据是否正确读取\n",
    "\n",
    "此外需要注意的是，DataLoader类型的数据需要转化为迭代器后取出\n",
    "\n",
    "`np.transpose`用于调整图片的维度顺序，原本为[3, 32, 32]，调整后为[32, 32, 3]以便输出"
   ],
   "metadata": {
    "collapsed": false,
    "pycharm": {
     "name": "#%% md\n"
    }
   }
  },
  {
   "cell_type": "code",
   "execution_count": 301,
   "outputs": [
    {
     "data": {
      "text/plain": "<Figure size 432x288 with 1 Axes>",
      "image/png": "[encoded data removed]"
     },
     "metadata": {
      "needs_background": "light"
     },
     "output_type": "display_data"
    },
    {
     "data": {
      "text/plain": "(32, 32, 3)"
     },
     "execution_count": 301,
     "metadata": {},
     "output_type": "execute_result"
    }
   ],
   "source": [
    "# 展示图片\n",
    "def img_show(data):\n",
    "    data = data / 2 + 0.5\n",
    "    plt.imshow(np.transpose(data.numpy(), (1, 2, 0)))\n",
    "    plt.show()\n",
    "\n",
    "img_data = iter(train_loader)\n",
    "img_data, _ = next(img_data)\n",
    "img_show(img_data[1])\n",
    "data = img_data[1] / 2 + 0.5\n",
    "np.transpose(data.numpy(), (1, 2, 0)).shape"
   ],
   "metadata": {
    "collapsed": false,
    "pycharm": {
     "name": "#%%\n"
    }
   }
  },
  {
   "cell_type": "markdown",
   "source": [
    "# Start Training"
   ],
   "metadata": {
    "collapsed": false,
    "pycharm": {
     "name": "#%% md\n"
    }
   }
  },
  {
   "cell_type": "code",
   "execution_count": 274,
   "outputs": [
    {
     "name": "stdout",
     "output_type": "stream",
     "text": [
      "epoch  0   Loss:  915.5132\n",
      "epoch  1   Loss:  914.79663\n",
      "epoch  2   Loss:  903.1804\n",
      "epoch  3   Loss:  899.42773\n",
      "epoch  4   Loss:  895.97266\n"
     ]
    }
   ],
   "source": [
    "model.train()\n",
    "epochs = 5\n",
    "for epoch in range(epochs):\n",
    "    sum_loss = .0\n",
    "    for i, (in_data, out_data) in enumerate(train_loader):\n",
    "\n",
    "        in_data = in_data.to(device)\n",
    "        out_data = out_data.to(device)\n",
    "        pred = model(in_data)\n",
    "        loss = criterion(pred, out_data)\n",
    "        optimizer.zero_grad()\n",
    "        loss.backward()\n",
    "        optimizer.step()\n",
    "        sum_loss += loss\n",
    "    print(\"epoch \", epoch, \"  Loss: \", np.float32(sum_loss.data))"
   ],
   "metadata": {
    "collapsed": false,
    "pycharm": {
     "name": "#%%\n"
    }
   }
  },
  {
   "cell_type": "markdown",
   "source": [
    "# Test"
   ],
   "metadata": {
    "collapsed": false,
    "pycharm": {
     "name": "#%% md\n"
    }
   }
  },
  {
   "cell_type": "code",
   "execution_count": 273,
   "outputs": [
    {
     "name": "stdout",
     "output_type": "stream",
     "text": [
      "Correct rate:  54.98 %\n"
     ]
    }
   ],
   "source": [
    "model.eval()\n",
    "with torch.no_grad():\n",
    "    correct = 0\n",
    "    total = 0\n",
    "    for i, (in_data, out_data) in enumerate(test_loader):\n",
    "        outputs = model(in_data)\n",
    "        _, predicted = torch.max(outputs.data, 1)\n",
    "        total += out_data.shape[0]\n",
    "        correct += (predicted == out_data).sum()\n",
    "print(\"Correct rate: \", np.float32(100 * correct / total), \"%\")\n"
   ],
   "metadata": {
    "collapsed": false,
    "pycharm": {
     "name": "#%%\n"
    }
   }
  },
  {
   "cell_type": "markdown",
   "source": [
    "\n"
   ],
   "metadata": {
    "collapsed": false,
    "pycharm": {
     "name": "#%% md\n"
    }
   }
  }
 ],
 "metadata": {
  "kernelspec": {
   "name": "pycharm-d9814caa",
   "language": "python",
   "display_name": "PyCharm (Intro-Lab5-CNN)"
  },
  "language_info": {
   "codemirror_mode": {
    "name": "ipython",
    "version": 2
   },
   "file_extension": ".py",
   "mimetype": "text/x-python",
   "name": "python",
   "nbconvert_exporter": "python",
   "pygments_lexer": "ipython2",
   "version": "2.7.6"
  }
 },
 "nbformat": 4,
 "nbformat_minor": 0
}